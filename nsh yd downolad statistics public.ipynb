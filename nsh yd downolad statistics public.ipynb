{
 "cells": [
  {
   "cell_type": "markdown",
   "metadata": {},
   "source": [
    "Скрипт Никиты Шеина https://github.com/sheinnick/  \n",
    "Качает статистику из Директа"
   ]
  },
  {
   "cell_type": "code",
   "execution_count": null,
   "metadata": {},
   "outputs": [],
   "source": [
    "#сделать рабочую область шире\n",
    "from IPython.core.display import display, HTML\n",
    "display(HTML(\"<style>.container { width:90% !important; }</style>\"))"
   ]
  },
  {
   "cell_type": "code",
   "execution_count": null,
   "metadata": {},
   "outputs": [],
   "source": [
    "from datetime import datetime\n",
    "import requests\n",
    "from requests.exceptions import ConnectionError\n",
    "from time import sleep\n",
    "import json"
   ]
  },
  {
   "cell_type": "code",
   "execution_count": null,
   "metadata": {},
   "outputs": [],
   "source": [
    "url_yandex_direct_statistics='https://api.direct.yandex.com/json/v5/reports'"
   ]
  },
  {
   "cell_type": "code",
   "execution_count": null,
   "metadata": {},
   "outputs": [],
   "source": [
    "def y_direct_stat_download_report(token,DateStart,DateEnd,clientLogin='',Id='',Name='',projectname=''):\n",
    "    \"\"\"\n",
    "    функция запрашивает и скачивает отчет из яндекс директа\n",
    "    возравщает имя файла, если все прошло ок\n",
    "    параметры:\n",
    "    Id, Name, projectname — не обязательные. Используются только для названия файла\n",
    "    clientLogin — если запрос под агентским аккаунтом, то во время вызова функции указывать обязательно. Если под клиентским, то оставлять ''\n",
    "    \"\"\"\n",
    "    headers_y_direct_stats = {\n",
    "           \"Authorization\": \"Bearer \" + token,\n",
    "           \"Client-Login\": clientLogin,\n",
    "           \"Accept-Language\": \"ru\",\n",
    "           \"processingMode\": \"auto\", #auto — директ сам решает отдать в онлайн, или готовить в офлайне отчет\n",
    "           \"skipReportHeader\": \"true\",\n",
    "           # \"skipColumnHeader\": \"true\",  # Не выводить в отчете строку с названиями полей\n",
    "           \"skipReportSummary\": \"true\"\n",
    "           }\n",
    "\n",
    "    body_y_direct_stats={\n",
    "        \"params\": {\n",
    "        \"SelectionCriteria\": {\n",
    "            \"DateFrom\": DateStart,\n",
    "            \"DateTo\": DateEnd\n",
    "        },\n",
    "        \n",
    "        \"FieldNames\":  [    # вот тут можно удалять или комментить что-нибудь, если не всё нужно\n",
    "#             'AdGroupId',\n",
    "#             'AdGroupName',\n",
    "#             'AdId',\n",
    "            'AdNetworkType',\n",
    "#             'Age',\n",
    "#             'AvgClickPosition',\n",
    "#             'AvgCpc',\n",
    "#             'AvgImpressionPosition',\n",
    "#             'AvgPageviews',\n",
    "#             'Bounces',\n",
    "            'CampaignId',\n",
    "            'CampaignName',\n",
    "            'CampaignType',\n",
    "#             'Clicks',\n",
    "#             'Conversions',\n",
    "#             'Cost',\n",
    "#             'Criterion',\n",
    "#             'CriterionId',\n",
    "#             'CriterionType',\n",
    "#             'Date',\n",
    "#             'Device',\n",
    "#             'Gender',\n",
    "            'Impressions'\n",
    "#             'MobilePlatform',\n",
    "#             'Slot',\n",
    "#             'RlAdjustmentId'\n",
    "                ],\n",
    "            \n",
    "        \"Page\": { \"Limit\": 1000000000},\n",
    "        \"ReportName\": f\"stats_{projectname}_{clientLogin}_{Id}_{Name}_{DateStart}_{DateEnd}\",\n",
    "        \"ReportType\": \"CUSTOM_REPORT\",\n",
    "        \"DateRangeType\": \"CUSTOM_DATE\",\n",
    "        \"Format\": \"TSV\",\n",
    "        \"IncludeVAT\": \"YES\",\n",
    "        \"IncludeDiscount\": \"NO\"\n",
    "        }} #заканчивается  body_y_direct_stats\n",
    "    \n",
    "    body = json.dumps(body_y_direct_stats, indent=4) # Кодирование тела запроса в JSON\n",
    "    \n",
    "    #делаем запрос\n",
    "    req = requests.post(url_yandex_direct_statistics, body, headers=headers_y_direct_stats)\n",
    "    \n",
    "    while True:\n",
    "        try:\n",
    "            req = requests.post(url_yandex_direct_statistics, body, headers=headers_y_direct_stats)\n",
    "            req.encoding = 'utf-8'\n",
    "                \n",
    "            if req.status_code == 200:\n",
    "                print(datetime.now())\n",
    "                print('Отчет создан успешно')\n",
    "                filename=f\"stats_{projectname}_{clientLogin}_{Id}_{Name}_{DateStart}_{DateEnd}\"+'.tsv'\n",
    "                with open(filename, 'wb') as f:\n",
    "                    for chunk in req.iter_content(chunk_size=1024): \n",
    "                        if chunk:\n",
    "                            f.write(chunk)\n",
    "                    print('file '+ filename +' downloaded')\n",
    "                print(datetime.now())\n",
    "                return (filename)\n",
    "                \n",
    "            else:\n",
    "                print(\"Произошла ошибка\")\n",
    "                print('Статус код — ' + req.status_code)\n",
    "                print(\"RequestId:  {}\".format(req.headers.get(\"RequestId\", False)))\n",
    "                print(\"JSON-код запроса: {}\".format(body))\n",
    "                print(\"JSON-код ответа сервера: \\n{}\".format(u(req.json())))\n",
    "                return('error')\n",
    "                \n",
    "\n",
    "        # Обработка ошибки, если не удалось соединиться с сервером API Директа\n",
    "        except ConnectionError:\n",
    "            # В данном случае мы рекомендуем повторить запрос позднее\n",
    "            print(\"Произошла ошибка соединения с сервером API\")\n",
    "            return('error')\n",
    "\n",
    "        # Если возникла какая-либо другая ошибка\n",
    "        except:\n",
    "            # В данном случае мы рекомендуем проанализировать действия приложения\n",
    "            print(\"Произошла непредвиденная ошибка\")\n",
    "            return('error') \n"
   ]
  },
  {
   "cell_type": "markdown",
   "metadata": {},
   "source": [
    "Вводи параметры "
   ]
  },
  {
   "cell_type": "code",
   "execution_count": null,
   "metadata": {},
   "outputs": [],
   "source": [
    "token='AAAAAAAAAAAAAAAAAAAAAAAAAAAAAAAAA' # <<<<<<<<<<< введи токен\n",
    "DateStart='2019-03-01'\n",
    "DateEnd='2019-03-01'\n",
    "clientLogin='' # <<<<<<<<<<< введи клиентский логин, если под агентским аккаунтом. Если под клиентским, то не трогай ;)\n"
   ]
  },
  {
   "cell_type": "markdown",
   "metadata": {},
   "source": [
    "Вызывай функицию"
   ]
  },
  {
   "cell_type": "code",
   "execution_count": null,
   "metadata": {},
   "outputs": [],
   "source": [
    "y_direct_stat_download_report(token,DateStart,DateEnd,clientLogin,'','','')"
   ]
  },
  {
   "cell_type": "code",
   "execution_count": null,
   "metadata": {},
   "outputs": [],
   "source": []
  }
 ],
 "metadata": {
  "kernelspec": {
   "display_name": "Python 3",
   "language": "python",
   "name": "python3"
  },
  "language_info": {
   "codemirror_mode": {
    "name": "ipython",
    "version": 3
   },
   "file_extension": ".py",
   "mimetype": "text/x-python",
   "name": "python",
   "nbconvert_exporter": "python",
   "pygments_lexer": "ipython3",
   "version": "3.7.1"
  }
 },
 "nbformat": 4,
 "nbformat_minor": 2
}
